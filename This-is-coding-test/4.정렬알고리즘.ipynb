{
 "cells": [
  {
   "cell_type": "code",
   "execution_count": 1,
   "metadata": {},
   "outputs": [],
   "source": [
    "#선택 정렬(처리되지 않은 데이터 중에서 가장 작은 데이터를 선택해 맨 앞에 있는 데이터와 바꾸는 것을 반복)\n",
    "#시간 복잡도 N^2"
   ]
  },
  {
   "cell_type": "code",
   "execution_count": 10,
   "metadata": {},
   "outputs": [
    {
     "name": "stdout",
     "output_type": "stream",
     "text": [
      "[0, 1, 2, 3, 4, 5, 6, 7, 8, 9]\n"
     ]
    }
   ],
   "source": [
    "array=[5,7,9,0,3,1,6,2,4,8]\n",
    "\n",
    "for i in range(len(array)):\n",
    "    min_index=i\n",
    "    for j in range(i+1,len(array)):\n",
    "        if array[min_index]>array[j]:\n",
    "            min_index=j\n",
    "    array[i],array[min_index]=array[min_index],array[i]\n",
    "    \n",
    "print(array)            "
   ]
  },
  {
   "cell_type": "code",
   "execution_count": 4,
   "metadata": {},
   "outputs": [],
   "source": [
    "#삽입 정렬(구현 난이도는 높으나 더 효율적, 첫번째 데이터를 정렬 되어있다고 판단하고 왼쪽 오른쪽으로 나눔, 왼쪽데이터와 크기를 비교하여 크면 그대로 작으면 왼쪽으로)\n",
    "#시간 복잡도 N^2"
   ]
  },
  {
   "cell_type": "code",
   "execution_count": 12,
   "metadata": {},
   "outputs": [
    {
     "name": "stdout",
     "output_type": "stream",
     "text": [
      "[0, 1, 2, 3, 4, 5, 6, 7, 8, 9]\n"
     ]
    }
   ],
   "source": [
    "array=[5,7,9,0,3,1,6,2,4,8]\n",
    "\n",
    "for i in range(1,len(array)):\n",
    "    for j in range(i,0,-1):\n",
    "        if array[j]<array[j-1]:\n",
    "            array[j],array[j-1]=array[j-1],array[j]\n",
    "        else:\n",
    "            break\n",
    "print(array)\n"
   ]
  },
  {
   "cell_type": "code",
   "execution_count": null,
   "metadata": {},
   "outputs": [],
   "source": [
    "#퀵 정렬(기준 데이터를 설정하고 그 기준보다 큰 데이터와 작은 데이터의 위치를 바꾸는 방법)\n",
    "#정렬 라이브러리의 근간이되는 알고리즘\n",
    "#(기본)첫 번째 데이터를 기준으로\n",
    "# 왼쪽에서 부터 기준보다 큰 값과 오른쪽에서부터 기준 값 보다 작은 값의 위치를 바꿈\n",
    "#위치가 서로 엇갈렸을땐 작은 데이터와 기준 데이터를 바꿈\n",
    "#이 때 기준 중심으로 왼쪽은 작은 숫자, 오른쪽은 큰 숫자가 됨\n",
    "# 왼쪽에서 퀵정렬, 오른쪽에서 퀵정렬 (=재귀적으로)\n",
    "# 빠른 이유= 시간복잡도가 log N이 됨(반 반 계속 잘라서, 최악은 N^2)"
   ]
  },
  {
   "cell_type": "code",
   "execution_count": 14,
   "metadata": {},
   "outputs": [
    {
     "name": "stdout",
     "output_type": "stream",
     "text": [
      "[0, 1, 2, 3, 4, 5, 6, 7, 8, 9]\n"
     ]
    }
   ],
   "source": [
    "array=[5,7,9,0,3,1,6,2,4,8]\n",
    "\n",
    "def quick_sort(array,start,end):\n",
    "    if start>end:\n",
    "        return\n",
    "    pivot=start\n",
    "    left=start+1\n",
    "    right=end\n",
    "    while(left<=right):\n",
    "        while(left<=end and array[left]<=array[pivot]):\n",
    "            left+=1\n",
    "        while(right>start and array[right]>=array[pivot]):\n",
    "            right-=1\n",
    "        if(left>right):\n",
    "            array[right],array[pivot]=array[pivot],array[right]\n",
    "        else:\n",
    "            array[left],array[right]=array[right],array[left]\n",
    "    quick_sort(array,start,right-1)\n",
    "    quick_sort(array,right+1,end)\n",
    "    \n",
    "quick_sort(array,0,len(array)-1)\n",
    "print(array)"
   ]
  },
  {
   "cell_type": "code",
   "execution_count": 1,
   "metadata": {},
   "outputs": [
    {
     "name": "stdout",
     "output_type": "stream",
     "text": [
      "[0, 1, 2, 3, 4, 5, 6, 7, 8, 9]\n"
     ]
    }
   ],
   "source": [
    "# 파이썬의 장점을 이용한 퀵정렬\n",
    "array=[5,7,9,0,3,1,6,2,4,8]\n",
    "\n",
    "def quick_sort(array):\n",
    "    if len(array)<=1:\n",
    "        return array\n",
    "    pivot=array[0]\n",
    "    tail=array[1:]\n",
    "    left_side=[x for x in tail if x<=pivot]\n",
    "    right_side=[x for x in tail if x>pivot]\n",
    "    \n",
    "    return quick_sort(left_side)+[pivot]+quick_sort(right_side)\n",
    "\n",
    "print(quick_sort(array))"
   ]
  },
  {
   "cell_type": "code",
   "execution_count": 12,
   "metadata": {},
   "outputs": [
    {
     "name": "stdout",
     "output_type": "stream",
     "text": [
      "0 0 1 1 2 2 3 4 5 5 6 7 8 9 9 "
     ]
    }
   ],
   "source": [
    "#계수 정렬 #시간 복잡도:N+K\n",
    "#각각 데이터가 몇번 등장했는지 세고 그다음에 정렬\n",
    "#동일한 값을 가지는 데이터가 여러 개 등장할 때\n",
    "array=[7,5,9,0,3,1,6,2,9,1,4,8,0,5,2]\n",
    "count=[0]*(max(array)+1)\n",
    "\n",
    "for i in range(len(array)):\n",
    "    count[array[i]]+=1\n",
    "\n",
    "# count\n",
    "for i in range(len(count)):\n",
    "    for j in range(count[i]):\n",
    "        print(i, end=' ')"
   ]
  },
  {
   "cell_type": "code",
   "execution_count": 14,
   "metadata": {},
   "outputs": [
    {
     "name": "stdout",
     "output_type": "stream",
     "text": [
      "선택 정렬 성능 측정: 6.401356220245361\n",
      "기본 정렬 라이브러리 성능 측정: 0.0\n"
     ]
    }
   ],
   "source": [
    "#선택정렬과 기본정렬 라이브럴 수행시간 비교\n",
    "from random import randint\n",
    "import time\n",
    "\n",
    "arrry=[]\n",
    "for _ in range(10000):\n",
    "    array.append(randint(1,100))\n",
    "    \n",
    "start_time=time.time()\n",
    "\n",
    "for i in range(len(array)):\n",
    "    min_index=i\n",
    "    for j in range(i+1,len(array)):\n",
    "        if array[min_index]<array[j]:\n",
    "            min_index=j\n",
    "        array[i],array[min_index]=array[min_index],array[i]\n",
    "        \n",
    "end_time=time.time()\n",
    "print(\"선택 정렬 성능 측정:\",end_time-start_time)\n",
    "\n",
    "array=[]\n",
    "for _ in range(10000):\n",
    "    array.append(randint(1,100))\n",
    "    \n",
    "start_time=time.time()\n",
    "array.sort()\n",
    "\n",
    "end_time=time.time()\n",
    "print(\"기본 정렬 라이브러리 성능 측정:\", end_time-start_time)"
   ]
  },
  {
   "cell_type": "code",
   "execution_count": 22,
   "metadata": {},
   "outputs": [],
   "source": [
    "#두 배열의 원소 교체\n",
    "N,k=map(int,input().split())\n",
    "A=list(map(int,input().split()))\n",
    "B=list(map(int,input().split()))"
   ]
  },
  {
   "cell_type": "code",
   "execution_count": 27,
   "metadata": {},
   "outputs": [
    {
     "name": "stdout",
     "output_type": "stream",
     "text": [
      "26\n"
     ]
    }
   ],
   "source": [
    "A.sort()\n",
    "B.sort(reverse=True)\n",
    "\n",
    "for i in range(k):\n",
    "    if A[i]<B[i]:\n",
    "        A[i],B[i]=B[i],A[i]\n",
    "    else:\n",
    "        break\n",
    "print(sum(A))"
   ]
  }
 ],
 "metadata": {
  "kernelspec": {
   "display_name": "Python 3.10.4 64-bit",
   "language": "python",
   "name": "python3"
  },
  "language_info": {
   "codemirror_mode": {
    "name": "ipython",
    "version": 3
   },
   "file_extension": ".py",
   "mimetype": "text/x-python",
   "name": "python",
   "nbconvert_exporter": "python",
   "pygments_lexer": "ipython3",
   "version": "3.10.4"
  },
  "orig_nbformat": 4,
  "vscode": {
   "interpreter": {
    "hash": "73d70afa6ea69e9144526a6a5401599dec7b759b7060f809f68e57a7e0099458"
   }
  }
 },
 "nbformat": 4,
 "nbformat_minor": 2
}
