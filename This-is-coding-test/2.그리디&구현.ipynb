{
 "cells": [
  {
   "cell_type": "markdown",
   "metadata": {},
   "source": [
    "# ------그리디------"
   ]
  },
  {
   "cell_type": "code",
   "execution_count": 1,
   "metadata": {},
   "outputs": [
    {
     "name": "stdout",
     "output_type": "stream",
     "text": [
      "6\n"
     ]
    }
   ],
   "source": [
    "#1. 거스름돈\n",
    "n=1260\n",
    "count=0\n",
    "\n",
    "array=[500,100,50,10]\n",
    "\n",
    "for coin in array:\n",
    "    count +=n//coin\n",
    "    n%=coin\n",
    "    \n",
    "print(count)"
   ]
  },
  {
   "cell_type": "code",
   "execution_count": 16,
   "metadata": {},
   "outputs": [
    {
     "name": "stdout",
     "output_type": "stream",
     "text": [
      "3147\n"
     ]
    }
   ],
   "source": [
    "# 1이 될 때까지\n",
    "N,K=map(int,input().split())\n",
    "count=0\n",
    "while N!=1:\n",
    "    if N%K==0:\n",
    "        N=N//K\n",
    "        count+=1\n",
    "    else:\n",
    "        N=N-1\n",
    "        count+=1\n",
    "print(count)"
   ]
  },
  {
   "cell_type": "code",
   "execution_count": 24,
   "metadata": {},
   "outputs": [
    {
     "name": "stdout",
     "output_type": "stream",
     "text": [
      "2304009\n"
     ]
    }
   ],
   "source": [
    "#곱하기 혹은 더하기\n",
    "num=input()\n",
    "result=int(num[0])\n",
    "for i in range(1,len(num)):\n",
    "    if int(num[i])<=1 or result<=1:\n",
    "        result=result+int(num[i])\n",
    "    else :\n",
    "        result=result*int(num[i])\n",
    "    \n",
    "print(result)"
   ]
  },
  {
   "cell_type": "code",
   "execution_count": 35,
   "metadata": {},
   "outputs": [],
   "source": [
    "#모험가 길드\n",
    "N=int(input())\n",
    "array=list(map(int,input().split()))\n",
    "array.sort()\n",
    "\n",
    "result=0 #총 그룹의 수\n",
    "count=0 # 현재 그룹에 포함된 모험가의 수\n",
    "\n",
    "for i in array:\n",
    "    count +=1\n",
    "    if count>=i:\n",
    "        result+=1\n",
    "        count=0\n",
    "print(result)"
   ]
  },
  {
   "cell_type": "markdown",
   "metadata": {},
   "source": [
    "# ------구현------"
   ]
  },
  {
   "cell_type": "code",
   "execution_count": 38,
   "metadata": {},
   "outputs": [
    {
     "name": "stdout",
     "output_type": "stream",
     "text": [
      "2 3\n",
      "1 2\n",
      "2 1\n",
      "3 2\n"
     ]
    }
   ],
   "source": [
    "dx=[0,-1,0,1]\n",
    "dy=[1,0,-1,0]\n",
    "\n",
    "x,y=2,2\n",
    "\n",
    "for i in range(4):\n",
    "    nx=x+dx[i]\n",
    "    ny=y+dy[i]\n",
    "    print(nx,ny)"
   ]
  },
  {
   "cell_type": "code",
   "execution_count": 50,
   "metadata": {},
   "outputs": [],
   "source": [
    "# 상하좌우 이동\n",
    "N=int(input())\n",
    "way=list(input().split())"
   ]
  },
  {
   "cell_type": "code",
   "execution_count": 51,
   "metadata": {},
   "outputs": [
    {
     "name": "stdout",
     "output_type": "stream",
     "text": [
      "1 1\n"
     ]
    }
   ],
   "source": [
    "X=1\n",
    "Y=1\n",
    "for i in way:\n",
    "    if X==1 and i=='L':\n",
    "        pass\n",
    "    elif Y==1 and i=='U':\n",
    "        pass\n",
    "    else:    \n",
    "        if i=='R':\n",
    "            X+=1\n",
    "        elif i=='L':\n",
    "            X-=1\n",
    "        elif i=='U':\n",
    "            Y-=1\n",
    "        else:\n",
    "            Y+=1\n",
    "            \n",
    "print(X,Y)\n",
    "        "
   ]
  },
  {
   "cell_type": "code",
   "execution_count": 52,
   "metadata": {},
   "outputs": [
    {
     "data": {
      "text/plain": [
       "['R', 'U', 'U', 'D', 'L', 'L', 'L', 'U']"
      ]
     },
     "execution_count": 52,
     "metadata": {},
     "output_type": "execute_result"
    }
   ],
   "source": [
    "way"
   ]
  },
  {
   "cell_type": "code",
   "execution_count": 4,
   "metadata": {},
   "outputs": [
    {
     "name": "stdout",
     "output_type": "stream",
     "text": [
      "11475\n"
     ]
    }
   ],
   "source": [
    "# 00시 00분 00초 부터 N시 59분 59초 까지 3이 들어간 경우의 수\n",
    "h=int(input())\n",
    "\n",
    "count=0\n",
    "for i in range(h+1):\n",
    "    for j in range(60):\n",
    "        for k in range(60):\n",
    "            if '3' in str(i)+str(j)+str(k):\n",
    "                count+=1\n",
    "print(count)"
   ]
  },
  {
   "cell_type": "code",
   "execution_count": 19,
   "metadata": {},
   "outputs": [
    {
     "name": "stdout",
     "output_type": "stream",
     "text": [
      "8\n"
     ]
    }
   ],
   "source": [
    "#왕실의 나이트\n",
    "input_data=input()\n",
    "row=int(input_data[1])\n",
    "column=int(ord(input_data[0]))-int(ord('a'))+1\n",
    "\n",
    "steps=[(-2,-1),(-1,-2),(1,-2),(2,-1),(2,1),(1,2),(-1,2),(-2,1)]\n",
    "\n",
    "result=0\n",
    "for step in steps:\n",
    "    next_row=row+step[0]\n",
    "    next_column=column+step[1]\n",
    "    if next_row>=1 and next_row<=8 and next_column>=1 and next_column<=8:\n",
    "        result+=1\n",
    "        \n",
    "print(result)"
   ]
  },
  {
   "cell_type": "code",
   "execution_count": 30,
   "metadata": {},
   "outputs": [
    {
     "name": "stdout",
     "output_type": "stream",
     "text": [
      "ABCKK13\n"
     ]
    }
   ],
   "source": [
    "#문자열 재정렬\n",
    "data=input()\n",
    "result=[]\n",
    "value=0\n",
    "\n",
    "for x in data:\n",
    "    if x.isalpha():\n",
    "        result.append(x)\n",
    "    else:\n",
    "        value+=int(x)\n",
    "\n",
    "result.sort()\n",
    "\n",
    "if value!=0:\n",
    "    result.append(str(value))\n",
    "print(''.join(result))"
   ]
  },
  {
   "cell_type": "code",
   "execution_count": null,
   "metadata": {},
   "outputs": [],
   "source": []
  }
 ],
 "metadata": {
  "kernelspec": {
   "display_name": "Python 3.10.4 64-bit",
   "language": "python",
   "name": "python3"
  },
  "language_info": {
   "codemirror_mode": {
    "name": "ipython",
    "version": 3
   },
   "file_extension": ".py",
   "mimetype": "text/x-python",
   "name": "python",
   "nbconvert_exporter": "python",
   "pygments_lexer": "ipython3",
   "version": "3.10.4"
  },
  "orig_nbformat": 4,
  "vscode": {
   "interpreter": {
    "hash": "73d70afa6ea69e9144526a6a5401599dec7b759b7060f809f68e57a7e0099458"
   }
  }
 },
 "nbformat": 4,
 "nbformat_minor": 2
}
