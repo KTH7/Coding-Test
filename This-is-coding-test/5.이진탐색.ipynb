{
 "cells": [
  {
   "cell_type": "code",
   "execution_count": 1,
   "metadata": {},
   "outputs": [],
   "source": [
    "#순차 탐색: 리스트 안에 있는 특정한 데이터를 찾기 위해 앞에서부터 데이터를 하나 씩 확인하는 방법\n",
    "#이진 탐색: 정렬되어 있는 리스트에서 탐색 범위를 절반씩 좁혀가며 데이터를 탐색하는 방법(이진 탐색은 시작점, 끝점, 중간점을 이용하여 탐색범위를 설정합니다.)"
   ]
  },
  {
   "cell_type": "code",
   "execution_count": 3,
   "metadata": {},
   "outputs": [
    {
     "name": "stdout",
     "output_type": "stream",
     "text": [
      "4\n"
     ]
    }
   ],
   "source": [
    "#재귀적 구현\n",
    "def binary_search(array,target,start,end):\n",
    "    if start>end:\n",
    "        return None\n",
    "    mid=(start+end)//2\n",
    "    \n",
    "    if array[mid]==target:\n",
    "        return mid\n",
    "    \n",
    "    elif array[mid]>target:\n",
    "        return binary_search(array,target,start,mid-1)\n",
    "    \n",
    "    else:\n",
    "        return binary_search(array,target,mid+1,end)\n",
    "    \n",
    "n,target=list(map(int,input().split()))\n",
    "\n",
    "array=list(map(int,input().split()))\n",
    "\n",
    "result=binary_search(array,target,0,n-1)\n",
    "if result==None:\n",
    "    print(\"원소가 존재하지 않습니다.\")\n",
    "else:\n",
    "    print(result+1)"
   ]
  },
  {
   "cell_type": "code",
   "execution_count": 4,
   "metadata": {},
   "outputs": [
    {
     "name": "stdout",
     "output_type": "stream",
     "text": [
      "4\n"
     ]
    }
   ],
   "source": [
    "#반복문 구현\n",
    "def binary_search(array,target,start,end):\n",
    "   while start<=end:\n",
    "        mid=(start+end)//2\n",
    "        if array[mid]==target:\n",
    "           return mid\n",
    "        elif array[mid]>target:\n",
    "           end=mid-1\n",
    "        else:\n",
    "            start=mid+1\n",
    "n,target=list(map(int,input().split()))\n",
    "\n",
    "array=list(map(int,input().split()))\n",
    "\n",
    "result=binary_search(array,target,0,n-1)\n",
    "if result==None:\n",
    "    print(\"원소가 존재하지 않습니다.\")\n",
    "else:\n",
    "    print(result+1)\n"
   ]
  },
  {
   "cell_type": "code",
   "execution_count": 5,
   "metadata": {},
   "outputs": [
    {
     "name": "stdout",
     "output_type": "stream",
     "text": [
      "2\n",
      "4\n"
     ]
    }
   ],
   "source": [
    "#이진 탐색 라이브러리\n",
    "# bisect_left: 정렬된 순서를 유지하면서 배열 a에 x를 삽입할 가장 왼쪽 인덱스를 반환\n",
    "# bisect_right:정렬된 순서를 유지하면서 배열 a에 x를 삽입할 가장 오른쪽 인덱스를 반환\n",
    "from bisect import bisect_left,bisect_right\n",
    "a=[1,2,4,4,8]\n",
    "x=4\n",
    "\n",
    "print(bisect_left(a,x))\n",
    "print(bisect_right(a,x))"
   ]
  },
  {
   "cell_type": "code",
   "execution_count": null,
   "metadata": {},
   "outputs": [],
   "source": [
    "#값이 특정 범위에 속하는 데이터 개수 구하기\n",
    "from bisect import bisect_left,bisect_right\n",
    "\n",
    "def count_by_range(a,left_value,right_value):\n",
    "    right_index=bisect_right(a,right_value)\n",
    "    left_index=bisect_left(a,left_value)\n",
    "    return right_index-left_index\n",
    "\n",
    "a=[1,2,3,3,3,3,4,4,8,9]\n",
    "\n",
    "print(count_by_range(a,4,4))\n",
    "print(count_by_range(a,-1,3))"
   ]
  },
  {
   "cell_type": "code",
   "execution_count": null,
   "metadata": {},
   "outputs": [],
   "source": [
    "#파라메트릭 서치(최적화 문제를 결정문제로 바꾸어 해결하는 기법)\n",
    "#ex) 특정한 조건을 만족하는 가장 알맞은 값을 빠르게 찾는 최적화 문제\n",
    "\n",
    "# 떡볶이 떡 만들기\n",
    "n,m=list(map(int,input().split(' ')))\n",
    "array=list(map(int,input().split()))\n",
    "\n",
    "start=0\n",
    "end=max(array)\n",
    "\n",
    "result=0\n",
    "while(start<=end):\n",
    "    total=0\n",
    "    mid=(start+end)//2\n",
    "    for x in array:\n",
    "        if x>mid:\n",
    "            total+=x-mid\n",
    "    if total<m:\n",
    "        end=mid-1\n",
    "    else:\n",
    "        result=mid\n",
    "        start=mid+1\n",
    "print(result)"
   ]
  },
  {
   "cell_type": "code",
   "execution_count": 6,
   "metadata": {},
   "outputs": [
    {
     "name": "stdout",
     "output_type": "stream",
     "text": [
      "4\n"
     ]
    }
   ],
   "source": [
    "#정렬된 배열에서 특정 수의 개수 구하기\n",
    "from bisect import bisect_left, bisect_right\n",
    "\n",
    "def count_by_range(array,left_value,right_value):\n",
    "    right_index=bisect_right(array,right_value)\n",
    "    left_index=bisect_left(array,left_value)\n",
    "    return right_index-left_index\n",
    "\n",
    "n,x=map(int,input().split())\n",
    "array=list(map(int,input().split()))\n",
    "\n",
    "count=count_by_range(array,x,x)\n",
    "\n",
    "if count==0:\n",
    "    print(-1)\n",
    "else:\n",
    "    print(count)"
   ]
  },
  {
   "cell_type": "code",
   "execution_count": null,
   "metadata": {},
   "outputs": [],
   "source": []
  }
 ],
 "metadata": {
  "kernelspec": {
   "display_name": "Python 3.10.4 64-bit",
   "language": "python",
   "name": "python3"
  },
  "language_info": {
   "codemirror_mode": {
    "name": "ipython",
    "version": 3
   },
   "file_extension": ".py",
   "mimetype": "text/x-python",
   "name": "python",
   "nbconvert_exporter": "python",
   "pygments_lexer": "ipython3",
   "version": "3.10.4"
  },
  "orig_nbformat": 4,
  "vscode": {
   "interpreter": {
    "hash": "73d70afa6ea69e9144526a6a5401599dec7b759b7060f809f68e57a7e0099458"
   }
  }
 },
 "nbformat": 4,
 "nbformat_minor": 2
}
